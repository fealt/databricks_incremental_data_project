{
 "cells": [
  {
   "cell_type": "markdown",
   "metadata": {
    "application/vnd.databricks.v1+cell": {
     "cellMetadata": {},
     "inputWidgets": {},
     "nuid": "baf7833e-a61f-467c-bf03-bce93e5edcd8",
     "showTitle": false,
     "tableResultSettingsMap": {},
     "title": ""
    }
   },
   "source": [
    "### Silver Layer Pipeline"
   ]
  },
  {
   "cell_type": "code",
   "execution_count": 0,
   "metadata": {
    "application/vnd.databricks.v1+cell": {
     "cellMetadata": {
      "byteLimit": 2048000,
      "rowLimit": 10000
     },
     "inputWidgets": {},
     "nuid": "2c9f47f9-7fc1-48af-b9e6-51733a988cdc",
     "showTitle": false,
     "tableResultSettingsMap": {},
     "title": ""
    }
   },
   "outputs": [],
   "source": [
    "import dlt\n",
    "from pyspark.sql.functions import *\n",
    "from pyspark.sql.types import *"
   ]
  },
  {
   "cell_type": "markdown",
   "metadata": {
    "application/vnd.databricks.v1+cell": {
     "cellMetadata": {},
     "inputWidgets": {},
     "nuid": "27eb353c-ef38-449e-8b11-21522cedf43a",
     "showTitle": false,
     "tableResultSettingsMap": {},
     "title": ""
    }
   },
   "source": [
    "#### Define Bronze-to-Silver Table _stage_bookings_\n",
    "\n",
    "- This Delta Live Table (DLT) loads streaming data from the bookings folder in the Bronze layer\n",
    "- It uses spark.readStream to continuously read Delta files and registers the output as a managed DLT table"
   ]
  },
  {
   "cell_type": "code",
   "execution_count": 0,
   "metadata": {
    "application/vnd.databricks.v1+cell": {
     "cellMetadata": {},
     "inputWidgets": {},
     "nuid": "79108876-7e24-4e39-80b8-41cb72980358",
     "showTitle": false,
     "tableResultSettingsMap": {},
     "title": ""
    }
   },
   "outputs": [],
   "source": [
    "@dlt.table(\n",
    "    name = \"stage_bookings\"\n",
    ")\n",
    "def stage_bookings():\n",
    "    df = spark.readStream.format(\"delta\")\\\n",
    "        .load(\"/Volumes/flights/bronze/bronze_volume/bookings/data/\")\n",
    "    return df"
   ]
  },
  {
   "cell_type": "markdown",
   "metadata": {
    "application/vnd.databricks.v1+cell": {
     "cellMetadata": {},
     "inputWidgets": {},
     "nuid": "b7f1f2dc-0620-4425-864e-8a665a8f1b52",
     "showTitle": false,
     "tableResultSettingsMap": {},
     "title": ""
    }
   },
   "source": [
    "### Apply Transformations to Bookings\n",
    "\n",
    "- This DLT view applies transformations to the _stage_bookings_ data, including type casting, adding timestamps, and dropping _rescued_data columns"
   ]
  },
  {
   "cell_type": "code",
   "execution_count": 0,
   "metadata": {
    "application/vnd.databricks.v1+cell": {
     "cellMetadata": {},
     "inputWidgets": {},
     "nuid": "fa9780f6-63ec-4c35-b8e8-d73ff3c39d62",
     "showTitle": false,
     "tableResultSettingsMap": {},
     "title": ""
    }
   },
   "outputs": [],
   "source": [
    "@dlt.view(\n",
    "    name = \"transformations_bookings\"\n",
    ")\n",
    "def transformations_bookings():\n",
    "    df = spark.readStream.table(\"stage_bookings\")\n",
    "    df = df.withColumn(\"amount\", col(\"amount\").cast(DoubleType()))\\\n",
    "        .withColumn(\"modified_date\", current_timestamp())\\\n",
    "        .withColumn(\"booking_date\", to_date(col(\"booking_date\")))\\\n",
    "        .drop(\"_rescued_data\")\n",
    "    return df"
   ]
  },
  {
   "cell_type": "markdown",
   "metadata": {
    "application/vnd.databricks.v1+cell": {
     "cellMetadata": {},
     "inputWidgets": {},
     "nuid": "2cf11b2f-772b-4304-8827-2aef8c791fa5",
     "showTitle": false,
     "tableResultSettingsMap": {},
     "title": ""
    }
   },
   "source": [
    "### Define Data Quality Rules\n",
    "\n",
    "- A dictionary _rules_ is defined, which includes constraints for data quality checks (e.g., booking_id and passenger_id must not be NULL)"
   ]
  },
  {
   "cell_type": "code",
   "execution_count": 0,
   "metadata": {
    "application/vnd.databricks.v1+cell": {
     "cellMetadata": {},
     "inputWidgets": {},
     "nuid": "cdfd03b9-f119-4c20-ba69-729deab6832d",
     "showTitle": false,
     "tableResultSettingsMap": {},
     "title": ""
    }
   },
   "outputs": [],
   "source": [
    "rules = {\n",
    "    \"rule1\": \"booking_id IS NOT NULL\",\n",
    "    \"rule2\": \"passenger_id IS NOT NULL\"\n",
    "}"
   ]
  },
  {
   "cell_type": "markdown",
   "metadata": {
    "application/vnd.databricks.v1+cell": {
     "cellMetadata": {},
     "inputWidgets": {},
     "nuid": "97d02d66-2457-4df8-a087-3c4595d57666",
     "showTitle": false,
     "tableResultSettingsMap": {},
     "title": ""
    }
   },
   "source": [
    "### Create Silver Table with Data Expectations\n",
    "\n",
    "- This DLT table _silver_bookings_ reads from the transformed view and enforces all data quality rules via @dlt.expect_all_or_drop\n",
    "- Rows that violate rules are dropped"
   ]
  },
  {
   "cell_type": "code",
   "execution_count": 0,
   "metadata": {
    "application/vnd.databricks.v1+cell": {
     "cellMetadata": {},
     "inputWidgets": {},
     "nuid": "8efdbfb8-b86f-4a54-8536-e0ef4475f1d8",
     "showTitle": false,
     "tableResultSettingsMap": {},
     "title": ""
    }
   },
   "outputs": [],
   "source": [
    "@dlt.table(\n",
    "    name = \"silver_bookings\"\n",
    ")\n",
    "\n",
    "@dlt.expect_all_or_drop(rules)\n",
    "\n",
    "def silver_bookings():\n",
    "    df = spark.readStream.table(\"transformations_bookings\")\n",
    "    return df"
   ]
  },
  {
   "cell_type": "markdown",
   "metadata": {
    "application/vnd.databricks.v1+cell": {
     "cellMetadata": {},
     "inputWidgets": {},
     "nuid": "dd58f701-9a6b-453d-9270-2950371e56d2",
     "showTitle": false,
     "tableResultSettingsMap": {},
     "title": ""
    }
   },
   "source": [
    "### Query Silver Layer"
   ]
  },
  {
   "cell_type": "code",
   "execution_count": 0,
   "metadata": {
    "application/vnd.databricks.v1+cell": {
     "cellMetadata": {
      "byteLimit": 2048000,
      "implicitDf": true,
      "rowLimit": 10000
     },
     "inputWidgets": {},
     "nuid": "4b08761f-2613-4878-8720-bb92bce25b32",
     "showTitle": false,
     "tableResultSettingsMap": {},
     "title": ""
    }
   },
   "outputs": [
    {
     "output_type": "display_data",
     "data": {
      "text/html": [
       "<style scoped>\n",
       "  .table-result-container {\n",
       "    max-height: 300px;\n",
       "    overflow: auto;\n",
       "  }\n",
       "  table, th, td {\n",
       "    border: 1px solid black;\n",
       "    border-collapse: collapse;\n",
       "  }\n",
       "  th, td {\n",
       "    padding: 5px;\n",
       "  }\n",
       "  th {\n",
       "    text-align: left;\n",
       "  }\n",
       "</style><div class='table-result-container'><table class='table-result'><thead style='background-color: white'><tr><th>airport_id</th><th>airport_name</th><th>city</th><th>country</th><th>modified_date</th></tr></thead><tbody><tr><td>A012</td><td>East Nancy International Airport</td><td>Crosston</td><td>Romania</td><td>2025-07-10T19:49:14.572Z</td></tr><tr><td>A044</td><td>Cordovaview International Airport</td><td>Shannonport</td><td>Gabon</td><td>2025-07-10T19:49:14.572Z</td></tr><tr><td>A047</td><td>New Michaelland International Airport</td><td>Sanchezberg</td><td>Hong Kong</td><td>2025-07-10T19:49:14.572Z</td></tr><tr><td>A050</td><td>Paultown International Airport</td><td>North Richardmouth</td><td>France</td><td>2025-07-10T19:49:14.572Z</td></tr><tr><td>A009</td><td>New Joshuafurt International Airport</td><td>Port Jamiehaven</td><td>Pitcairn Islands</td><td>2025-07-10T19:49:14.572Z</td></tr><tr><td>A023</td><td>Maryfurt International Airport</td><td>Lake Kennethfurt</td><td>Panama</td><td>2025-07-10T19:49:14.572Z</td></tr><tr><td>A043</td><td>Kaylaland International Airport</td><td>Schultzhaven</td><td>Sweden</td><td>2025-07-10T19:49:14.572Z</td></tr><tr><td>A022</td><td>Blankenshipport International Airport</td><td>Sherryville</td><td>Bhutan</td><td>2025-07-10T19:49:14.572Z</td></tr><tr><td>A032</td><td>East Robinmouth International Airport</td><td>Sharonstad</td><td>Poland</td><td>2025-07-10T19:49:14.572Z</td></tr><tr><td>A005</td><td>East Aaron International Airport</td><td>Davishaven</td><td>Monaco</td><td>2025-07-10T19:49:14.572Z</td></tr></tbody></table></div>"
      ]
     },
     "metadata": {
      "application/vnd.databricks.v1+output": {
       "addedWidgets": {},
       "aggData": [],
       "aggError": "",
       "aggOverflow": false,
       "aggSchema": [],
       "aggSeriesLimitReached": false,
       "aggType": "",
       "arguments": {},
       "columnCustomDisplayInfos": {},
       "data": [
        [
         "A012",
         "East Nancy International Airport",
         "Crosston",
         "Romania",
         "2025-07-10T19:49:14.572Z"
        ],
        [
         "A044",
         "Cordovaview International Airport",
         "Shannonport",
         "Gabon",
         "2025-07-10T19:49:14.572Z"
        ],
        [
         "A047",
         "New Michaelland International Airport",
         "Sanchezberg",
         "Hong Kong",
         "2025-07-10T19:49:14.572Z"
        ],
        [
         "A050",
         "Paultown International Airport",
         "North Richardmouth",
         "France",
         "2025-07-10T19:49:14.572Z"
        ],
        [
         "A009",
         "New Joshuafurt International Airport",
         "Port Jamiehaven",
         "Pitcairn Islands",
         "2025-07-10T19:49:14.572Z"
        ],
        [
         "A023",
         "Maryfurt International Airport",
         "Lake Kennethfurt",
         "Panama",
         "2025-07-10T19:49:14.572Z"
        ],
        [
         "A043",
         "Kaylaland International Airport",
         "Schultzhaven",
         "Sweden",
         "2025-07-10T19:49:14.572Z"
        ],
        [
         "A022",
         "Blankenshipport International Airport",
         "Sherryville",
         "Bhutan",
         "2025-07-10T19:49:14.572Z"
        ],
        [
         "A032",
         "East Robinmouth International Airport",
         "Sharonstad",
         "Poland",
         "2025-07-10T19:49:14.572Z"
        ],
        [
         "A005",
         "East Aaron International Airport",
         "Davishaven",
         "Monaco",
         "2025-07-10T19:49:14.572Z"
        ]
       ],
       "datasetInfos": [
        {
         "name": "_sqldf",
         "schema": {
          "fields": [
           {
            "metadata": {},
            "name": "airport_id",
            "nullable": true,
            "type": "string"
           },
           {
            "metadata": {},
            "name": "airport_name",
            "nullable": true,
            "type": "string"
           },
           {
            "metadata": {},
            "name": "city",
            "nullable": true,
            "type": "string"
           },
           {
            "metadata": {},
            "name": "country",
            "nullable": true,
            "type": "string"
           },
           {
            "metadata": {},
            "name": "modified_date",
            "nullable": true,
            "type": "timestamp"
           }
          ],
          "type": "struct"
         },
         "tableIdentifier": null,
         "typeStr": "pyspark.sql.connect.dataframe.DataFrame"
        }
       ],
       "dbfsResultPath": null,
       "isJsonSchema": true,
       "metadata": {
        "createTempViewForImplicitDf": true,
        "dataframeName": "_sqldf",
        "executionCount": 2
       },
       "overflow": false,
       "plotOptions": {
        "customPlotOptions": {},
        "displayType": "table",
        "pivotAggregation": null,
        "pivotColumns": null,
        "xColumns": null,
        "yColumns": null
       },
       "removedWidgets": [],
       "schema": [
        {
         "metadata": "{}",
         "name": "airport_id",
         "type": "\"string\""
        },
        {
         "metadata": "{}",
         "name": "airport_name",
         "type": "\"string\""
        },
        {
         "metadata": "{}",
         "name": "city",
         "type": "\"string\""
        },
        {
         "metadata": "{}",
         "name": "country",
         "type": "\"string\""
        },
        {
         "metadata": "{}",
         "name": "modified_date",
         "type": "\"timestamp\""
        }
       ],
       "type": "table"
      }
     },
     "output_type": "display_data"
    }
   ],
   "source": [
    "%sql\n",
    "SELECT *\n",
    "FROM flights.silver.silver_airports\n",
    "LIMIT 10;"
   ]
  }
 ],
 "metadata": {
  "application/vnd.databricks.v1+notebook": {
   "computePreferences": null,
   "dashboards": [],
   "environmentMetadata": {
    "base_environment": "",
    "environment_version": "2"
   },
   "inputWidgetPreferences": null,
   "language": "python",
   "notebookMetadata": {
    "mostRecentlyExecutedCommandWithImplicitDF": {
     "commandId": 7620401736926394,
     "dataframes": [
      "_sqldf"
     ]
    },
    "pythonIndentUnit": 4
   },
   "notebookName": "Silver_Layer",
   "widgets": {}
  },
  "language_info": {
   "name": "python"
  }
 },
 "nbformat": 4,
 "nbformat_minor": 0
}