{
 "cells": [
  {
   "cell_type": "markdown",
   "metadata": {
    "application/vnd.databricks.v1+cell": {
     "cellMetadata": {},
     "inputWidgets": {},
     "nuid": "3e6a4607-9603-46a1-ac40-458c37c6a349",
     "showTitle": false,
     "tableResultSettingsMap": {},
     "title": ""
    }
   },
   "source": [
    "### Define Source Parameters\n",
    "\n",
    "- Create an array of dictionaries called src_array, which lists the different data sources (airports, bookings, customers, flights)\n",
    "- This array is used to parameterize data ingestion workflows across multiple source datasets"
   ]
  },
  {
   "cell_type": "code",
   "execution_count": 0,
   "metadata": {
    "application/vnd.databricks.v1+cell": {
     "cellMetadata": {
      "byteLimit": 2048000,
      "rowLimit": 10000
     },
     "inputWidgets": {},
     "nuid": "89406261-f24d-4a44-a1e4-86a3d38d9b18",
     "showTitle": false,
     "tableResultSettingsMap": {},
     "title": ""
    }
   },
   "outputs": [],
   "source": [
    "src_array = [\n",
    "    {\"src\": \"airports\"},\n",
    "    {\"src\": \"bookings\"},\n",
    "    {\"src\": \"customers\"},\n",
    "    {\"src\": \"flights\"}\n",
    "]"
   ]
  },
  {
   "cell_type": "markdown",
   "metadata": {
    "application/vnd.databricks.v1+cell": {
     "cellMetadata": {},
     "inputWidgets": {},
     "nuid": "1cd1e927-ba28-401d-9ba2-a99fee5e644a",
     "showTitle": false,
     "tableResultSettingsMap": {},
     "title": ""
    }
   },
   "source": [
    "#### Store Task Values in Databricks Jobs\n",
    "\n",
    "- Store the src_array as a key-value pair (output_key)\n",
    "- These values can be accessed by downstream tasks in a Databricks Job to dynamically control their execution"
   ]
  },
  {
   "cell_type": "code",
   "execution_count": 0,
   "metadata": {
    "application/vnd.databricks.v1+cell": {
     "cellMetadata": {
      "byteLimit": 2048000,
      "rowLimit": 10000
     },
     "inputWidgets": {},
     "nuid": "e24e05f1-be44-479d-bd67-87af3e58d7d2",
     "showTitle": false,
     "tableResultSettingsMap": {},
     "title": ""
    }
   },
   "outputs": [],
   "source": [
    "# https://docs.databricks.com/gcp/en/jobs/task-values\n",
    "\n",
    "dbutils.jobs.taskValues.set(key = \"output_key\", value = src_array)"
   ]
  }
 ],
 "metadata": {
  "application/vnd.databricks.v1+notebook": {
   "computePreferences": null,
   "dashboards": [],
   "environmentMetadata": {
    "base_environment": "",
    "environment_version": "2"
   },
   "inputWidgetPreferences": null,
   "language": "python",
   "notebookMetadata": {
    "pythonIndentUnit": 4
   },
   "notebookName": "Src_Parameters",
   "widgets": {}
  },
  "language_info": {
   "name": "python"
  }
 },
 "nbformat": 4,
 "nbformat_minor": 0
}